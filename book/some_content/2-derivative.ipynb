{
 "cells": [
  {
   "cell_type": "markdown",
   "metadata": {},
   "source": [
    "# The First Derivative "
   ]
  },
  {
   "cell_type": "markdown",
   "metadata": {},
   "source": [
    "```{note}\n",
    "**Important things to retain from this block:**\n",
    "* Understand what the derivative represents\n",
    "* Recognize that the derivative can be approximated in different ways\n",
    "```"
   ]
  },
  {
   "cell_type": "markdown",
   "metadata": {},
   "source": [
    "**Definition:** The derivative of a function $f(x)$ evaluated at the point $x_0$ is \n",
    "$$\n",
    "\\frac{df}{dx}\\bigg\\rvert_{x_0}=f'(x_0)=\\lim_{x \\to x_0}\\frac{f(x)-f(x_0)}{x-x_0}.\n",
    "$$\n",
    " \n",
    " **Numerically** $x - x_0$ **cannot tend to 0!** Thus, $$f'(x_0) \\approx \\frac{f(x)-f(x_0)}{\\Delta x}, \\text{where } \\Delta x=x-x_0. $$\n",
    "\n",
    "\n",
    "<img style=\"float: right;\" src=\"figs/derivative_new2.png\" width=350px></img>\n",
    "\n",
    "<br><br>\n",
    "**What does the derivative represents?** A rate of change! In this case, how fast $f(x)$ changes with respect to $x$ (or in the direction of $x$). The derivative can also be with respect to time or another independent variable (e.g., $y,z,t,etc$). Look at the figure to the right. The first derivative evaluated at $x_0$ is illustrated as a simple slope. You can also see that the rate of change at $x_0$ is larger than at $x_1$.   "
   ]
  },
  {
   "cell_type": "markdown",
   "metadata": {},
   "source": [
    "## Numerical Freedom to compute derivatives\n",
    "\n",
    "\n",
    "In the Figure above, the derivative approximation was illustrated arbitarly using two points: the one at which the derivate was evaluated and another point in front of it. However, there are more possibilities. Instead of using points at $x_{-1,0,1}$ a more general notation is used: $x_{i-1,i,i+1}$. The simplest ways to approximate the derivative evaluated at the pont $x_i$ use two points: \n",
    "\n",
    "$$\n",
    "\\text{forward } \\frac{df}{dx}\\bigg\\rvert_{x_i}\\approx\\frac{f(x_{i+1})-f(x_{i})}{x_{i+1}-x_i}  \\text{ \\qquad backward } \\frac{df}{dx}\\bigg\\rvert_{x_i}\\approx\\frac{f(x_{i})-f(x_{i-1})}{x_{i}-x_{i-1}}  \\text{\\qquad central } \\frac{df}{dx}\\bigg\\rvert_{x_i}\\approx\\frac{f(x_{i+1})-f(x_{i-1})}{x_{i+1}-x_{i-1}}\n",
    "$$\n",
    "\n",
    "\n",
    "<img style=\"display: block; margin: auto;\" src=\"figs/derivative_ways.png\" width=900px></img>\n"
   ]
  }
 ],
 "metadata": {
  "kernelspec": {
   "display_name": "Python 3 (ipykernel)",
   "language": "python",
   "name": "python3"
  },
  "language_info": {
   "codemirror_mode": {
    "name": "ipython",
    "version": 3
   },
   "file_extension": ".py",
   "mimetype": "text/x-python",
   "name": "python",
   "nbconvert_exporter": "python",
   "pygments_lexer": "ipython3",
   "version": "3.9.12"
  }
 },
 "nbformat": 4,
 "nbformat_minor": 2
}
